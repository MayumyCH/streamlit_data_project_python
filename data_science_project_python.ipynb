{
  "nbformat": 4,
  "nbformat_minor": 0,
  "metadata": {
    "colab": {
      "name": "data_science_project_python.ipynb",
      "provenance": [],
      "collapsed_sections": [],
      "authorship_tag": "ABX9TyMPxvyZzsfTS15thDHYAv5Q",
      "include_colab_link": true
    },
    "kernelspec": {
      "name": "python3",
      "display_name": "Python 3"
    },
    "language_info": {
      "name": "python"
    }
  },
  "cells": [
    {
      "cell_type": "markdown",
      "metadata": {
        "id": "view-in-github",
        "colab_type": "text"
      },
      "source": [
        "<a href=\"https://colab.research.google.com/github/MayumyCH/streamlit_data_project_python/blob/main/data_science_project_python.ipynb\" target=\"_parent\"><img src=\"https://colab.research.google.com/assets/colab-badge.svg\" alt=\"Open In Colab\"/></a>"
      ]
    },
    {
      "cell_type": "markdown",
      "source": [
        "# Proyecto de Ciencia de Datos"
      ],
      "metadata": {
        "id": "cUrhIz3_hYsM"
      }
    },
    {
      "cell_type": "markdown",
      "source": [
        "Este proyecto va a usar la data generada y analizada del sgte proyecto completo :  \n",
        "\n",
        "\"Predicción de ventas de videojuegos de Vgchartz - plataforma Metacritic\" ([Link](https://github.com/MayumyCH/video_game_sales_with_ratings)) "
      ],
      "metadata": {
        "id": "Ao3sua_dj2oP"
      }
    },
    {
      "cell_type": "markdown",
      "source": [
        "## 1. ⛓ Importación de librerias"
      ],
      "metadata": {
        "id": "oIklT1QwhYYZ"
      }
    },
    {
      "cell_type": "code",
      "source": [
        "import pandas as pd # Manejo de data estructurada (Dataframe)\n",
        "import numpy as np #Manejo de matrices\n",
        "\n",
        "import matplotlib.pyplot as plt # Gráficas\n",
        "import seaborn as sns  #Gráficas sencillas\n",
        "\n",
        "# Separar datos en Train(Entrenamiento) y Test(Prueba)\n",
        "import sklearn\n",
        "from sklearn.model_selection import train_test_split \n",
        "\n",
        "seed=2020 # Una semilla se usa para que el modelo sea replicable"
      ],
      "metadata": {
        "id": "kA2rTBY4gFy4"
      },
      "execution_count": null,
      "outputs": []
    },
    {
      "cell_type": "code",
      "source": [
        "print(sklearn.__version__)\n",
        "!python3 --version"
      ],
      "metadata": {
        "id": "miIKG4c7hhtt",
        "colab": {
          "base_uri": "https://localhost:8080/"
        },
        "outputId": "b563b860-6275-43af-dfa4-dd95d7d0cd9c"
      },
      "execution_count": null,
      "outputs": [
        {
          "output_type": "stream",
          "name": "stdout",
          "text": [
            "1.0.2\n",
            "Python 3.7.13\n"
          ]
        }
      ]
    },
    {
      "cell_type": "markdown",
      "source": [
        "## 2. ⏳ Cargamos nuestro dataset"
      ],
      "metadata": {
        "id": "xtFWwsKXjuny"
      }
    },
    {
      "cell_type": "code",
      "source": [
        "url = \"https://raw.githubusercontent.com/MayumyCH/streamlit_data_project_python/main/data/data_videojuego.csv\"\n",
        "dataGames = pd.read_csv(url, index_col=False)\n",
        "dataGames.head(3)"
      ],
      "metadata": {
        "colab": {
          "base_uri": "https://localhost:8080/",
          "height": 364
        },
        "id": "5M9i36SujYtA",
        "outputId": "552da807-3089-4e9f-acca-2193f76f2346"
      },
      "execution_count": null,
      "outputs": [
        {
          "output_type": "execute_result",
          "data": {
            "text/plain": [
              "   Unnamed: 0                           Name Platform  Year   Genre  \\\n",
              "0          16             Grand Theft Auto V      PS3  2013  Action   \n",
              "1          17  Grand Theft Auto: San Andreas      PS2  2004  Action   \n",
              "2          23             Grand Theft Auto V     X360  2013  Action   \n",
              "\n",
              "              Publisher  NA_Sales  EU_Sales  JP_Sales  Other_Sales  \\\n",
              "0  Take-Two Interactive      7.02      9.09      0.98         3.96   \n",
              "1  Take-Two Interactive      9.43      0.40      0.41        10.57   \n",
              "2  Take-Two Interactive      9.66      5.14      0.06         1.41   \n",
              "\n",
              "   Global_Sales  Critic_Score  Critic_Count  User_Score  User_Count  \\\n",
              "0           8.0          97.0          50.0         8.2      3994.0   \n",
              "1           8.0          95.0          80.0         9.0      1588.0   \n",
              "2           8.0          97.0          58.0         8.1      3711.0   \n",
              "\n",
              "        Developer Rating  Has_Score   GPlatforms  \n",
              "0  Rockstar North      M       True  Playstation  \n",
              "1  Rockstar North      M       True  Playstation  \n",
              "2  Rockstar North      M       True         Xbox  "
            ],
            "text/html": [
              "\n",
              "  <div id=\"df-ad0bdd8f-25a3-451c-95a8-64f2912be77f\">\n",
              "    <div class=\"colab-df-container\">\n",
              "      <div>\n",
              "<style scoped>\n",
              "    .dataframe tbody tr th:only-of-type {\n",
              "        vertical-align: middle;\n",
              "    }\n",
              "\n",
              "    .dataframe tbody tr th {\n",
              "        vertical-align: top;\n",
              "    }\n",
              "\n",
              "    .dataframe thead th {\n",
              "        text-align: right;\n",
              "    }\n",
              "</style>\n",
              "<table border=\"1\" class=\"dataframe\">\n",
              "  <thead>\n",
              "    <tr style=\"text-align: right;\">\n",
              "      <th></th>\n",
              "      <th>Unnamed: 0</th>\n",
              "      <th>Name</th>\n",
              "      <th>Platform</th>\n",
              "      <th>Year</th>\n",
              "      <th>Genre</th>\n",
              "      <th>Publisher</th>\n",
              "      <th>NA_Sales</th>\n",
              "      <th>EU_Sales</th>\n",
              "      <th>JP_Sales</th>\n",
              "      <th>Other_Sales</th>\n",
              "      <th>Global_Sales</th>\n",
              "      <th>Critic_Score</th>\n",
              "      <th>Critic_Count</th>\n",
              "      <th>User_Score</th>\n",
              "      <th>User_Count</th>\n",
              "      <th>Developer</th>\n",
              "      <th>Rating</th>\n",
              "      <th>Has_Score</th>\n",
              "      <th>GPlatforms</th>\n",
              "    </tr>\n",
              "  </thead>\n",
              "  <tbody>\n",
              "    <tr>\n",
              "      <th>0</th>\n",
              "      <td>16</td>\n",
              "      <td>Grand Theft Auto V</td>\n",
              "      <td>PS3</td>\n",
              "      <td>2013</td>\n",
              "      <td>Action</td>\n",
              "      <td>Take-Two Interactive</td>\n",
              "      <td>7.02</td>\n",
              "      <td>9.09</td>\n",
              "      <td>0.98</td>\n",
              "      <td>3.96</td>\n",
              "      <td>8.0</td>\n",
              "      <td>97.0</td>\n",
              "      <td>50.0</td>\n",
              "      <td>8.2</td>\n",
              "      <td>3994.0</td>\n",
              "      <td>Rockstar North</td>\n",
              "      <td>M</td>\n",
              "      <td>True</td>\n",
              "      <td>Playstation</td>\n",
              "    </tr>\n",
              "    <tr>\n",
              "      <th>1</th>\n",
              "      <td>17</td>\n",
              "      <td>Grand Theft Auto: San Andreas</td>\n",
              "      <td>PS2</td>\n",
              "      <td>2004</td>\n",
              "      <td>Action</td>\n",
              "      <td>Take-Two Interactive</td>\n",
              "      <td>9.43</td>\n",
              "      <td>0.40</td>\n",
              "      <td>0.41</td>\n",
              "      <td>10.57</td>\n",
              "      <td>8.0</td>\n",
              "      <td>95.0</td>\n",
              "      <td>80.0</td>\n",
              "      <td>9.0</td>\n",
              "      <td>1588.0</td>\n",
              "      <td>Rockstar North</td>\n",
              "      <td>M</td>\n",
              "      <td>True</td>\n",
              "      <td>Playstation</td>\n",
              "    </tr>\n",
              "    <tr>\n",
              "      <th>2</th>\n",
              "      <td>23</td>\n",
              "      <td>Grand Theft Auto V</td>\n",
              "      <td>X360</td>\n",
              "      <td>2013</td>\n",
              "      <td>Action</td>\n",
              "      <td>Take-Two Interactive</td>\n",
              "      <td>9.66</td>\n",
              "      <td>5.14</td>\n",
              "      <td>0.06</td>\n",
              "      <td>1.41</td>\n",
              "      <td>8.0</td>\n",
              "      <td>97.0</td>\n",
              "      <td>58.0</td>\n",
              "      <td>8.1</td>\n",
              "      <td>3711.0</td>\n",
              "      <td>Rockstar North</td>\n",
              "      <td>M</td>\n",
              "      <td>True</td>\n",
              "      <td>Xbox</td>\n",
              "    </tr>\n",
              "  </tbody>\n",
              "</table>\n",
              "</div>\n",
              "      <button class=\"colab-df-convert\" onclick=\"convertToInteractive('df-ad0bdd8f-25a3-451c-95a8-64f2912be77f')\"\n",
              "              title=\"Convert this dataframe to an interactive table.\"\n",
              "              style=\"display:none;\">\n",
              "        \n",
              "  <svg xmlns=\"http://www.w3.org/2000/svg\" height=\"24px\"viewBox=\"0 0 24 24\"\n",
              "       width=\"24px\">\n",
              "    <path d=\"M0 0h24v24H0V0z\" fill=\"none\"/>\n",
              "    <path d=\"M18.56 5.44l.94 2.06.94-2.06 2.06-.94-2.06-.94-.94-2.06-.94 2.06-2.06.94zm-11 1L8.5 8.5l.94-2.06 2.06-.94-2.06-.94L8.5 2.5l-.94 2.06-2.06.94zm10 10l.94 2.06.94-2.06 2.06-.94-2.06-.94-.94-2.06-.94 2.06-2.06.94z\"/><path d=\"M17.41 7.96l-1.37-1.37c-.4-.4-.92-.59-1.43-.59-.52 0-1.04.2-1.43.59L10.3 9.45l-7.72 7.72c-.78.78-.78 2.05 0 2.83L4 21.41c.39.39.9.59 1.41.59.51 0 1.02-.2 1.41-.59l7.78-7.78 2.81-2.81c.8-.78.8-2.07 0-2.86zM5.41 20L4 18.59l7.72-7.72 1.47 1.35L5.41 20z\"/>\n",
              "  </svg>\n",
              "      </button>\n",
              "      \n",
              "  <style>\n",
              "    .colab-df-container {\n",
              "      display:flex;\n",
              "      flex-wrap:wrap;\n",
              "      gap: 12px;\n",
              "    }\n",
              "\n",
              "    .colab-df-convert {\n",
              "      background-color: #E8F0FE;\n",
              "      border: none;\n",
              "      border-radius: 50%;\n",
              "      cursor: pointer;\n",
              "      display: none;\n",
              "      fill: #1967D2;\n",
              "      height: 32px;\n",
              "      padding: 0 0 0 0;\n",
              "      width: 32px;\n",
              "    }\n",
              "\n",
              "    .colab-df-convert:hover {\n",
              "      background-color: #E2EBFA;\n",
              "      box-shadow: 0px 1px 2px rgba(60, 64, 67, 0.3), 0px 1px 3px 1px rgba(60, 64, 67, 0.15);\n",
              "      fill: #174EA6;\n",
              "    }\n",
              "\n",
              "    [theme=dark] .colab-df-convert {\n",
              "      background-color: #3B4455;\n",
              "      fill: #D2E3FC;\n",
              "    }\n",
              "\n",
              "    [theme=dark] .colab-df-convert:hover {\n",
              "      background-color: #434B5C;\n",
              "      box-shadow: 0px 1px 3px 1px rgba(0, 0, 0, 0.15);\n",
              "      filter: drop-shadow(0px 1px 2px rgba(0, 0, 0, 0.3));\n",
              "      fill: #FFFFFF;\n",
              "    }\n",
              "  </style>\n",
              "\n",
              "      <script>\n",
              "        const buttonEl =\n",
              "          document.querySelector('#df-ad0bdd8f-25a3-451c-95a8-64f2912be77f button.colab-df-convert');\n",
              "        buttonEl.style.display =\n",
              "          google.colab.kernel.accessAllowed ? 'block' : 'none';\n",
              "\n",
              "        async function convertToInteractive(key) {\n",
              "          const element = document.querySelector('#df-ad0bdd8f-25a3-451c-95a8-64f2912be77f');\n",
              "          const dataTable =\n",
              "            await google.colab.kernel.invokeFunction('convertToInteractive',\n",
              "                                                     [key], {});\n",
              "          if (!dataTable) return;\n",
              "\n",
              "          const docLinkHtml = 'Like what you see? Visit the ' +\n",
              "            '<a target=\"_blank\" href=https://colab.research.google.com/notebooks/data_table.ipynb>data table notebook</a>'\n",
              "            + ' to learn more about interactive tables.';\n",
              "          element.innerHTML = '';\n",
              "          dataTable['output_type'] = 'display_data';\n",
              "          await google.colab.output.renderOutput(dataTable, element);\n",
              "          const docLink = document.createElement('div');\n",
              "          docLink.innerHTML = docLinkHtml;\n",
              "          element.appendChild(docLink);\n",
              "        }\n",
              "      </script>\n",
              "    </div>\n",
              "  </div>\n",
              "  "
            ]
          },
          "metadata": {},
          "execution_count": 11
        }
      ]
    },
    {
      "cell_type": "markdown",
      "source": [
        "## 3.🕵️ Features Selection"
      ],
      "metadata": {
        "id": "zqZFy7_Hn3wz"
      }
    },
    {
      "cell_type": "code",
      "source": [
        "# VARIABLE NUMERICA\n",
        "df_num = dataGames.select_dtypes(\"number\").drop(columns=[\"Year\",\"Other_Sales\",\"JP_Sales\", \"EU_Sales\"])\n",
        "\n",
        "# VARIABLE CATEGORICA\n",
        "df_cat = dataGames[[\"GPlatforms\", \"Rating\"]]\n",
        "\n",
        "df_cat = pd.get_dummies(df_cat, drop_first=True)"
      ],
      "metadata": {
        "id": "3S6MiTxpoFo2"
      },
      "execution_count": null,
      "outputs": []
    },
    {
      "cell_type": "code",
      "source": [
        "dataModel = pd.concat([df_num, df_cat], axis = 1)\n",
        "X = dataModel.drop(columns=\"Global_Sales\")\n",
        "y = dataModel[\"Global_Sales\"]"
      ],
      "metadata": {
        "id": "uwSPIu72oRi5"
      },
      "execution_count": null,
      "outputs": []
    },
    {
      "cell_type": "markdown",
      "source": [
        "## 4. 📈 Modelado"
      ],
      "metadata": {
        "id": "r--6fwpynPXQ"
      }
    },
    {
      "cell_type": "code",
      "source": [
        "from sklearn.model_selection import train_test_split\n",
        "X_train, X_test, y_train, y_test = train_test_split(X, y, test_size=0.3,\n",
        "                                                    random_state=seed)  #Semilla para replicar el modelo"
      ],
      "metadata": {
        "id": "cV9zw7g2jYv4"
      },
      "execution_count": null,
      "outputs": []
    },
    {
      "cell_type": "code",
      "source": [
        "#Revisamos los tamaños de las pruebas de train y test\n",
        "print(\"Tamaño del conjunto de datos Inicial:\", dataModel.shape)\n",
        "print(\"Tamaño del conjunto de características del entrenamiento:\",X_train.shape)\n",
        "print(\"Tamaño del conjunto de características de prueba:\",X_test.shape)\n",
        "print(\"Tamaño de la variable objetivo del entrenamiento:\",y_train.shape)\n",
        "print(\"Tamaño de la variable objetivo de prueba:\",y_test.shape)"
      ],
      "metadata": {
        "colab": {
          "base_uri": "https://localhost:8080/"
        },
        "id": "MdpCe2nGoXTq",
        "outputId": "0118ff66-ccf2-4b13-c898-15ca88a97fe1"
      },
      "execution_count": null,
      "outputs": [
        {
          "output_type": "stream",
          "name": "stdout",
          "text": [
            "Tamaño del conjunto de datos Inicial: (2003, 15)\n",
            "Tamaño del conjunto de características del entrenamiento: (1402, 14)\n",
            "Tamaño del conjunto de características de prueba: (601, 14)\n",
            "Tamaño de la variable objetivo del entrenamiento: (1402,)\n",
            "Tamaño de la variable objetivo de prueba: (601,)\n"
          ]
        }
      ]
    },
    {
      "cell_type": "code",
      "source": [
        "# IMPORTANDO LOS DIFERENTES MODELOS DE REGRESION\n",
        "from sklearn.linear_model import LinearRegression, Ridge\n",
        "from sklearn.ensemble import RandomForestRegressor, GradientBoostingRegressor\n",
        "from sklearn.svm import SVR\n",
        "from sklearn.neighbors import KNeighborsRegressor\n",
        "\n",
        "# METRICAS MODELOS\n",
        "from sklearn.metrics import mean_squared_error, accuracy_score\n",
        "from sklearn import metrics # METRICAS MODELOS"
      ],
      "metadata": {
        "id": "n4NJHttwoXQz"
      },
      "execution_count": null,
      "outputs": []
    },
    {
      "cell_type": "code",
      "source": [
        "# EVALUANDO ERRORES\n",
        "def evaluate_metrics(true, predicted):\n",
        "    print('-'*50)\n",
        "\n",
        "    # Calculando el Error\n",
        "    mae = metrics.mean_absolute_error(true, predicted)\n",
        "    mse = metrics.mean_squared_error(true, predicted)\n",
        "    rmse = np.sqrt(metrics.mean_squared_error(true, predicted))\n",
        "\n",
        "    r2_square = metrics.r2_score(true, predicted)\n",
        "\n",
        "    # print(\"Error Absoluto Medio (MAE)\") # Que tan alejados estan mis valores reales de los predichos\n",
        "    print(\"Linear Regression Performance: MAE = {:.03f}\".format(mae))\n",
        "\n",
        "    print(\"Linear Regression Performance: MSE = {:.03f}\".format(mse)) # No se interpreta\n",
        "\n",
        "    # print(\"\\nCalculando la Raiz del Error Cuadratico Medio (RMSE)\")\n",
        "    print(\"Linear Regression Performance: RMSE = {:.03f}\".format(rmse)) # Raiz de MSE\n",
        "    # Que tan alejados estan mis valores reales de los predichos\n",
        "    # Mas penalizador\n",
        "    # Diferencia entre los valores reales y los valores predichos\n",
        "\n",
        "    print(\"r2_square= {:.02f}\".format(r2_square)) \n",
        "    # Que tanto estamos logrando predecir el modelo"
      ],
      "metadata": {
        "id": "EqrOlIrnoXOL"
      },
      "execution_count": null,
      "outputs": []
    },
    {
      "cell_type": "code",
      "source": [
        "def fit_and_evaluate(model, viewMetrics=False):\n",
        "    \n",
        "    model.fit(X_train, y_train) # Entrenamiento del modelo\n",
        "    \n",
        "    # Predecir y evaluar\n",
        "    model_pred_train = model.predict(X_train)\n",
        "    model_pred_test = model.predict(X_test)\n",
        "\n",
        "    model_rmse= np.sqrt(metrics.mean_squared_error(y_train, model_pred_train)) \n",
        "    # Buscar el menor error con el TRAIN\n",
        "\n",
        "    if viewMetrics:\n",
        "      print('Calculando los errores en la data del TRAIN')\n",
        "      evaluate_metrics(y_train,model_pred_train)\n",
        "\n",
        "      print('\\nCalculando los errores en la data del TEST')\n",
        "      evaluate_metrics(y_test,model_pred_test)\n",
        "    else:\n",
        "      print(\"Rendimiento de Regresión en la deta del TEST: RMSE = {:.02f}\".format(model_rmse))\n",
        "\n",
        "\n",
        "    # Retornar la metrica del rendimiento\n",
        "    return model_rmse"
      ],
      "metadata": {
        "id": "PubPzGN-paer"
      },
      "execution_count": null,
      "outputs": []
    },
    {
      "cell_type": "code",
      "source": [
        "# MODELO DUMMY\n",
        "basic_pred_train = np.median(X_train)\n",
        "basic_baseline_rmse =  np.sqrt(np.mean((y_train - basic_pred_train)**2))"
      ],
      "metadata": {
        "id": "g5V0yKedoXBa"
      },
      "execution_count": null,
      "outputs": []
    },
    {
      "cell_type": "code",
      "source": [
        "# REGRESION LINEAL\n",
        "lr = LinearRegression() # Creando un objeto de Regresión Lineal 'lm'\n",
        "lr_rmse = fit_and_evaluate(lr,True)"
      ],
      "metadata": {
        "id": "N129JwJuSc85",
        "colab": {
          "base_uri": "https://localhost:8080/"
        },
        "outputId": "1070eafc-6ba8-4bf3-849f-c7ca812af4ed"
      },
      "execution_count": null,
      "outputs": [
        {
          "output_type": "stream",
          "name": "stdout",
          "text": [
            "Calculando los errores en la data del TRAIN\n",
            "--------------------------------------------------\n",
            "Linear Regression Performance: MAE = 0.201\n",
            "Linear Regression Performance: MSE = 0.162\n",
            "Linear Regression Performance: RMSE = 0.403\n",
            "r2_square= 0.86\n",
            "\n",
            "Calculando los errores en la data del TEST\n",
            "--------------------------------------------------\n",
            "Linear Regression Performance: MAE = 0.192\n",
            "Linear Regression Performance: MSE = 0.138\n",
            "Linear Regression Performance: RMSE = 0.371\n",
            "r2_square= 0.87\n"
          ]
        }
      ]
    },
    {
      "cell_type": "code",
      "source": [
        "# SVM - MAQUINA DE SOPORTE VECTORIAL\n",
        "svm = SVR(C = 1000, gamma=0.1)\n",
        "svm_rmse = fit_and_evaluate(svm)"
      ],
      "metadata": {
        "colab": {
          "base_uri": "https://localhost:8080/"
        },
        "id": "XgznKMWCp5lj",
        "outputId": "6b703eac-5eec-4eab-bbfa-2f45d4c595fd"
      },
      "execution_count": null,
      "outputs": [
        {
          "output_type": "stream",
          "name": "stdout",
          "text": [
            "Rendimiento de Regresión en la deta del TEST: RMSE = 0.10\n"
          ]
        }
      ]
    },
    {
      "cell_type": "code",
      "source": [
        "# RANDOM FOREST REGRESOR\n",
        "random_forest_regresor = RandomForestRegressor(random_state=60)\n",
        "random_forest_rmse = fit_and_evaluate(random_forest_regresor,True)"
      ],
      "metadata": {
        "colab": {
          "base_uri": "https://localhost:8080/"
        },
        "id": "Dk_CSjVnqL9p",
        "outputId": "25ca7183-881b-42e7-ae17-1eb57a1d6311"
      },
      "execution_count": null,
      "outputs": [
        {
          "output_type": "stream",
          "name": "stdout",
          "text": [
            "Calculando los errores en la data del TRAIN\n",
            "--------------------------------------------------\n",
            "Linear Regression Performance: MAE = 0.002\n",
            "Linear Regression Performance: MSE = 0.000\n",
            "Linear Regression Performance: RMSE = 0.013\n",
            "r2_square= 1.00\n",
            "\n",
            "Calculando los errores en la data del TEST\n",
            "--------------------------------------------------\n",
            "Linear Regression Performance: MAE = 0.004\n",
            "Linear Regression Performance: MSE = 0.000\n",
            "Linear Regression Performance: RMSE = 0.019\n",
            "r2_square= 1.00\n"
          ]
        }
      ]
    },
    {
      "cell_type": "code",
      "source": [
        "# KNN - VECINOS CERCANOS\n",
        "knn = KNeighborsRegressor(n_neighbors=10)\n",
        "knn_rmse = fit_and_evaluate(knn,True)"
      ],
      "metadata": {
        "colab": {
          "base_uri": "https://localhost:8080/"
        },
        "id": "lg84YFtQq1bb",
        "outputId": "566710fa-08ac-4d8f-8e2c-47d662b05ee5"
      },
      "execution_count": null,
      "outputs": [
        {
          "output_type": "stream",
          "name": "stdout",
          "text": [
            "Calculando los errores en la data del TRAIN\n",
            "--------------------------------------------------\n",
            "Linear Regression Performance: MAE = 0.046\n",
            "Linear Regression Performance: MSE = 0.070\n",
            "Linear Regression Performance: RMSE = 0.265\n",
            "r2_square= 0.94\n",
            "\n",
            "Calculando los errores en la data del TEST\n",
            "--------------------------------------------------\n",
            "Linear Regression Performance: MAE = 0.049\n",
            "Linear Regression Performance: MSE = 0.072\n",
            "Linear Regression Performance: RMSE = 0.268\n",
            "r2_square= 0.93\n"
          ]
        }
      ]
    },
    {
      "cell_type": "markdown",
      "source": [
        "## 5. 🔥 Guardando los modelos\n"
      ],
      "metadata": {
        "id": "fQsPC0AarcIv"
      }
    },
    {
      "cell_type": "code",
      "source": [
        "# Exportando nuestro modelo\n",
        "import dill\n",
        "dill.settings['recurse'] = True\n",
        "\n",
        "import pickle # Guardar el flujo\n",
        "\n",
        "with open(\"model_rf.pkl\", \"wb\") as f:\n",
        "    pickle.dump(random_forest_regresor, f) \n",
        "with open(\"model_knn.pkl\", \"wb\") as f:\n",
        "    pickle.dump(knn, f)\n",
        "with open(\"model_svm.pkl\", \"wb\") as f:\n",
        "    pickle.dump(svm, f)\n",
        "with open(\"model_lr.pkl\", \"wb\") as f:\n",
        "    pickle.dump(lr, f) # Guardar el flujo\n",
        "\n",
        "print(\"Se genero todos los pkl de los modelos\")"
      ],
      "metadata": {
        "colab": {
          "base_uri": "https://localhost:8080/"
        },
        "id": "sOLsaYnYr2HT",
        "outputId": "855c44c5-f0cc-4e4f-da69-5b2f0a7542d1"
      },
      "execution_count": null,
      "outputs": [
        {
          "output_type": "stream",
          "name": "stdout",
          "text": [
            "Se genero todos los pkl de los modelos\n"
          ]
        }
      ]
    }
  ]
}